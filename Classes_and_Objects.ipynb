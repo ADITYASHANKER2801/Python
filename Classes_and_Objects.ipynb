{
  "nbformat": 4,
  "nbformat_minor": 0,
  "metadata": {
    "colab": {
      "provenance": [],
      "authorship_tag": "ABX9TyPDPcgCMPGeRGQYcm5t9Pcy"
    },
    "kernelspec": {
      "name": "python3",
      "display_name": "Python 3"
    },
    "language_info": {
      "name": "python"
    }
  },
  "cells": [
    {
      "cell_type": "code",
      "execution_count": 1,
      "metadata": {
        "colab": {
          "base_uri": "https://localhost:8080/"
        },
        "id": "rHj1gW6xOlIH",
        "outputId": "6dc06edb-331e-4f0d-cdeb-6a63b7b473cf"
      },
      "outputs": [
        {
          "output_type": "execute_result",
          "data": {
            "text/plain": [
              "5"
            ]
          },
          "metadata": {},
          "execution_count": 1
        }
      ],
      "source": [
        "class Myclass:\n",
        "  x=5\n",
        "\n",
        "obj=Myclass()\n",
        "print(obj.x)"
      ]
    },
    {
      "cell_type": "code",
      "source": [
        "#Constructors\n",
        "class Person:\n",
        "  def __init__(self,name,age):\n",
        "    self.name=name\n",
        "    self.age=age\n",
        "person=Person(\"John\",30)\n",
        "print(person.name)\n",
        "print(person.age)\n",
        "person1=Person(\"Orton\",28)\n",
        "print(person1.name)"
      ],
      "metadata": {
        "colab": {
          "base_uri": "https://localhost:8080/"
        },
        "id": "rL_-JZYOPdbK",
        "outputId": "3e42bb70-d072-4749-ccd9-6bd1d075b5cc"
      },
      "execution_count": 3,
      "outputs": [
        {
          "output_type": "stream",
          "name": "stdout",
          "text": [
            "John\n",
            "30\n",
            "Orton\n"
          ]
        }
      ]
    },
    {
      "cell_type": "markdown",
      "source": [
        "**METHODS** **USING** **CLASS**"
      ],
      "metadata": {
        "id": "osKYxUVlSuIe"
      }
    },
    {
      "cell_type": "code",
      "source": [
        "class Person:\n",
        "  def __init__(self,name,age):\n",
        "    self.name=name\n",
        "    self.age=age\n",
        "\n",
        "  def greet(self):\n",
        "      print(\"Hello, my name is\", self.name)\n",
        "\n",
        "person = Person(\"John\",30)\n",
        "person.greet()\n"
      ],
      "metadata": {
        "colab": {
          "base_uri": "https://localhost:8080/"
        },
        "id": "j3oH_xuKS1Ct",
        "outputId": "a257b549-dd2d-4c05-fd3f-7edb1dcd5ea6"
      },
      "execution_count": 7,
      "outputs": [
        {
          "output_type": "stream",
          "name": "stdout",
          "text": [
            "Hello, my name is John\n"
          ]
        }
      ]
    },
    {
      "cell_type": "markdown",
      "source": [
        "**POLYMORPHISM**"
      ],
      "metadata": {
        "id": "8nWdSXJ5XqP6"
      }
    },
    {
      "cell_type": "code",
      "source": [
        "#Polymorphism- when subclasses inherit methods from the main class\n",
        "class Animal:\n",
        "  def make_sound(self):\n",
        "    print(\"Unknown sound\")"
      ],
      "metadata": {
        "id": "0rWYnc3mUgsR"
      },
      "execution_count": 8,
      "outputs": []
    },
    {
      "cell_type": "code",
      "source": [
        "class Dog(Animal):\n",
        "  def make_sound(self):\n",
        "    print(\"bark\")"
      ],
      "metadata": {
        "id": "mqqWTj9XU7oV"
      },
      "execution_count": 9,
      "outputs": []
    },
    {
      "cell_type": "code",
      "source": [
        "class Cat(Animal):\n",
        "  def make_sound(self):\n",
        "    print(\"meow\")"
      ],
      "metadata": {
        "id": "9Dqp4aGEU74t"
      },
      "execution_count": 10,
      "outputs": []
    },
    {
      "cell_type": "code",
      "source": [
        "dog=Dog()\n",
        "cat=Cat()\n",
        "goat=Animal()\n",
        "\n",
        "dog.make_sound()\n",
        "cat.make_sound()\n",
        "goat.make_sound()"
      ],
      "metadata": {
        "colab": {
          "base_uri": "https://localhost:8080/"
        },
        "id": "YTmPPv07VRFf",
        "outputId": "eb3f647c-eb5f-4fb2-f2ad-02ca95165ac8"
      },
      "execution_count": 11,
      "outputs": [
        {
          "output_type": "stream",
          "name": "stdout",
          "text": [
            "bark\n",
            "meow\n",
            "Unknown sound\n"
          ]
        }
      ]
    },
    {
      "cell_type": "code",
      "source": [
        "class Shape():\n",
        "  #Define abstract methods to calculate area and perimeter. Will be implemented by child classes\n",
        "  def area(self):\n",
        "    pass\n",
        "\n",
        "  def perimeter(self):\n",
        "    pass\n",
        "\n",
        "class Square(Shape):\n",
        "  #calling the constructor\n",
        "  def __init__(self,side):\n",
        "    self.side=side\n",
        "   #overiding the area method\n",
        "  def area(self):\n",
        "    return self.side ** 2\n",
        "\n",
        "class Rectangle(Shape):\n",
        "  def __init__(self,width,height):\n",
        "    self.width=width\n",
        "    self.height=height\n",
        "\n",
        "  def area(self):\n",
        "      return self.width*self.height\n",
        "\n",
        "class Circle(Shape):\n",
        "  def __init__(self,radius):\n",
        "    self.radius=radius\n",
        "\n",
        "  def area(self):\n",
        "    return 3.14 * self.radius **2"
      ],
      "metadata": {
        "id": "RAd-tWWYVmxn"
      },
      "execution_count": 12,
      "outputs": []
    },
    {
      "cell_type": "code",
      "source": [
        "square=Square(5)\n",
        "rectangle=Rectangle(3,4)\n",
        "circle=Circle(7)\n",
        "\n",
        "print(square.area())\n",
        "print(rectangle.area())\n",
        "print(circle.area())"
      ],
      "metadata": {
        "colab": {
          "base_uri": "https://localhost:8080/"
        },
        "id": "_O_MRzLoXN-t",
        "outputId": "188a9757-d7f3-4697-8585-909dc6c9fd2a"
      },
      "execution_count": 13,
      "outputs": [
        {
          "output_type": "stream",
          "name": "stdout",
          "text": [
            "25\n",
            "12\n",
            "153.86\n"
          ]
        }
      ]
    },
    {
      "cell_type": "markdown",
      "source": [
        "**INHERITANCE** **AND** **SUPER**"
      ],
      "metadata": {
        "id": "-jZ4CRc4Xudt"
      }
    },
    {
      "cell_type": "code",
      "source": [
        "#Inheritance-allows a new class to inherit properties frome existing class\n",
        "class Vehicle():\n",
        "  def __init__(self,make,model,year):\n",
        "    self.make=make\n",
        "    self.model=model\n",
        "    self.year=year\n",
        "\n",
        "  def starting_engine(self):\n",
        "    print(\"starting engine\")"
      ],
      "metadata": {
        "id": "96uTWagCX3r8"
      },
      "execution_count": 15,
      "outputs": []
    },
    {
      "cell_type": "code",
      "source": [
        "class Car(Vehicle):\n",
        "  def __init__(self, make, model, year, num_doors):\n",
        "    super().__init__(make, model, year)\n",
        "    self.num_doors=num_doors\n",
        "\n",
        "  def drive(self):\n",
        "    print(\"driving..\")"
      ],
      "metadata": {
        "id": "OlBY1ktQYvx3"
      },
      "execution_count": 16,
      "outputs": []
    },
    {
      "cell_type": "code",
      "source": [
        "vehicle=Vehicle(\"Mahindra\",\"Scorpio\",2022)\n",
        "car=Car(\"Tesla\",\"Model S\",2021,4)\n",
        "\n",
        "vehicle.starting_engine()\n",
        "car.starting_engine()\n",
        "\n",
        "car.drive()\n"
      ],
      "metadata": {
        "colab": {
          "base_uri": "https://localhost:8080/"
        },
        "id": "POyHMXLVZcoY",
        "outputId": "5eae7dcf-35c8-4e09-d37a-e7c854232159"
      },
      "execution_count": 17,
      "outputs": [
        {
          "output_type": "stream",
          "name": "stdout",
          "text": [
            "starting engine\n",
            "starting engine\n",
            "driving..\n"
          ]
        }
      ]
    }
  ]
}