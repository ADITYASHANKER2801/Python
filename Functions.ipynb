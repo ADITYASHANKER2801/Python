{
  "nbformat": 4,
  "nbformat_minor": 0,
  "metadata": {
    "colab": {
      "provenance": [],
      "authorship_tag": "ABX9TyN7+f6KD3sbnfiGOo8MKirX"
    },
    "kernelspec": {
      "name": "python3",
      "display_name": "Python 3"
    },
    "language_info": {
      "name": "python"
    }
  },
  "cells": [
    {
      "cell_type": "code",
      "execution_count": 3,
      "metadata": {
        "colab": {
          "base_uri": "https://localhost:8080/"
        },
        "id": "4Ls1sSUHIJ2t",
        "outputId": "aadf4655-d1f1-4118-dbfa-3bcd04d7857e"
      },
      "outputs": [
        {
          "output_type": "stream",
          "name": "stdout",
          "text": [
            "hello world\n"
          ]
        }
      ],
      "source": [
        "#to initialize a function use def\n",
        "def fun():\n",
        "  print(\"hello world\")\n",
        "\n",
        "fun()"
      ]
    },
    {
      "cell_type": "code",
      "source": [
        "def fun(fname):\n",
        "  print(fname)\n",
        "\n",
        "fun(\"amy\")"
      ],
      "metadata": {
        "colab": {
          "base_uri": "https://localhost:8080/"
        },
        "id": "sHLsHXnHI1AX",
        "outputId": "95e76c28-5439-4d9e-da5d-4ee6c6106947"
      },
      "execution_count": 4,
      "outputs": [
        {
          "output_type": "stream",
          "name": "stdout",
          "text": [
            "amy\n"
          ]
        }
      ]
    },
    {
      "cell_type": "code",
      "source": [
        "# '*' is used for unlimited arguments\n",
        "def fun(*name):\n",
        "  print(name[0])\n",
        "\n",
        "fun(\"ammy\", \"shukla\")\n",
        "fun(\"john\", \"smith\")"
      ],
      "metadata": {
        "colab": {
          "base_uri": "https://localhost:8080/"
        },
        "id": "6B853mRlJPk-",
        "outputId": "7a8be8bd-7c37-4ae5-d239-46f4619591f8"
      },
      "execution_count": 7,
      "outputs": [
        {
          "output_type": "stream",
          "name": "stdout",
          "text": [
            "ammy\n",
            "john\n"
          ]
        }
      ]
    },
    {
      "cell_type": "code",
      "source": [
        "def fun(child3,child2,child1):\n",
        "  print(child1,child2,child3)\n",
        "\n",
        "fun(child1=\"John\",child2=\"amy\",child3=\"rick\")"
      ],
      "metadata": {
        "colab": {
          "base_uri": "https://localhost:8080/"
        },
        "id": "QUGixo2PJxyo",
        "outputId": "0e13dd24-fe6c-4a7f-943c-0ad0cf327b2d"
      },
      "execution_count": 8,
      "outputs": [
        {
          "output_type": "stream",
          "name": "stdout",
          "text": [
            "John amy rick\n"
          ]
        }
      ]
    },
    {
      "cell_type": "code",
      "source": [
        "#to print keyvalue unknown arguments we use **\n",
        "def fun(**childs):\n",
        "  print(childs)\n",
        "\n",
        "fun(child1=\"John\",child2=\"amy\",child3=\"rick\")"
      ],
      "metadata": {
        "colab": {
          "base_uri": "https://localhost:8080/"
        },
        "id": "w0ozJIVlKSA-",
        "outputId": "c34470c5-e5f0-4cdc-ebf1-503e46fa0b89"
      },
      "execution_count": 9,
      "outputs": [
        {
          "output_type": "stream",
          "name": "stdout",
          "text": [
            "{'child1': 'John', 'child2': 'amy', 'child3': 'rick'}\n"
          ]
        }
      ]
    },
    {
      "cell_type": "code",
      "source": [
        "def fun(country= \"Hindustan\"):\n",
        "  print(country)\n",
        "\n",
        "fun(\"india\")\n",
        "fun()"
      ],
      "metadata": {
        "colab": {
          "base_uri": "https://localhost:8080/"
        },
        "id": "0MUzSnOGKqeE",
        "outputId": "dbf5ef78-85ab-4cbf-fb12-4652470c3ede"
      },
      "execution_count": 10,
      "outputs": [
        {
          "output_type": "stream",
          "name": "stdout",
          "text": [
            "india\n",
            "Hindustan\n"
          ]
        }
      ]
    },
    {
      "cell_type": "code",
      "source": [
        "def fun(food):\n",
        "  for i in food:\n",
        "    print(i)\n",
        "\n",
        "fruits=[\"apple\",\"banana\",\"orange\"]\n",
        "fun(fruits)"
      ],
      "metadata": {
        "colab": {
          "base_uri": "https://localhost:8080/"
        },
        "id": "9KG-KZFEK9-u",
        "outputId": "0c7509c5-92f5-40b7-e269-3f84b3ed02ef"
      },
      "execution_count": 11,
      "outputs": [
        {
          "output_type": "stream",
          "name": "stdout",
          "text": [
            "apple\n",
            "banana\n",
            "orange\n"
          ]
        }
      ]
    },
    {
      "cell_type": "code",
      "source": [
        "def add(a,b):\n",
        "  return a+b\n",
        "\n",
        "add(1,2)"
      ],
      "metadata": {
        "colab": {
          "base_uri": "https://localhost:8080/"
        },
        "id": "-7EhZ5c0LQOG",
        "outputId": "0b98e3bf-b853-4155-a3f2-bd74f9ab4eef"
      },
      "execution_count": 13,
      "outputs": [
        {
          "output_type": "execute_result",
          "data": {
            "text/plain": [
              "3"
            ]
          },
          "metadata": {},
          "execution_count": 13
        }
      ]
    },
    {
      "cell_type": "code",
      "source": [
        "#we can use pass for keeping our function empty to use it later\n",
        "def fun():\n",
        "  pass"
      ],
      "metadata": {
        "id": "7vNCCc2QLqVb"
      },
      "execution_count": 14,
      "outputs": []
    },
    {
      "cell_type": "markdown",
      "source": [
        "**LAMBDA**"
      ],
      "metadata": {
        "id": "Sf910U6vMC1T"
      }
    },
    {
      "cell_type": "code",
      "source": [
        "x= lambda a: a+10\n",
        "print(x(5))"
      ],
      "metadata": {
        "colab": {
          "base_uri": "https://localhost:8080/"
        },
        "id": "dN0XIFH2MEf5",
        "outputId": "24106229-eca8-4b7b-cea0-712fbbacc6b3"
      },
      "execution_count": 15,
      "outputs": [
        {
          "output_type": "stream",
          "name": "stdout",
          "text": [
            "15\n"
          ]
        }
      ]
    },
    {
      "cell_type": "code",
      "source": [
        "x=lambda a,b: a+b\n",
        "print(x(3,4))"
      ],
      "metadata": {
        "colab": {
          "base_uri": "https://localhost:8080/"
        },
        "id": "i_4hEuFCMNI2",
        "outputId": "66224492-e896-4b48-973e-074c78c765f9"
      },
      "execution_count": 16,
      "outputs": [
        {
          "output_type": "stream",
          "name": "stdout",
          "text": [
            "7\n"
          ]
        }
      ]
    },
    {
      "cell_type": "code",
      "source": [
        "divide= lambda a,b: \"undefined\" if b==0 else a/b\n",
        "\n",
        "print(divide(10,2))\n",
        "print(divide(10,0))"
      ],
      "metadata": {
        "colab": {
          "base_uri": "https://localhost:8080/"
        },
        "id": "UZej30ATMesw",
        "outputId": "9fde4b44-a8c9-4488-bd1a-f21c474368cf"
      },
      "execution_count": 17,
      "outputs": [
        {
          "output_type": "stream",
          "name": "stdout",
          "text": [
            "5.0\n",
            "undefined\n"
          ]
        }
      ]
    },
    {
      "cell_type": "code",
      "source": [
        "#filter() function that returns an iterator containing only the elements for which condition is true\n",
        "list1=[1,2,3,4,5,6,7,8,9,10]\n",
        "even_numbers=list(filter(lambda a: a%2==0, list1))\n",
        "print(even_numbers)"
      ],
      "metadata": {
        "colab": {
          "base_uri": "https://localhost:8080/"
        },
        "id": "V6hHPEvTNFHM",
        "outputId": "c384f35d-f144-4ee1-d580-04c920ef6490"
      },
      "execution_count": 18,
      "outputs": [
        {
          "output_type": "stream",
          "name": "stdout",
          "text": [
            "[2, 4, 6, 8, 10]\n"
          ]
        }
      ]
    },
    {
      "cell_type": "code",
      "source": [
        "#map() - used to convert list of integers\n",
        "list1=[1,2,3,4,5]\n",
        "product=list(map(lambda a: a**2,list1))\n",
        "print(product)"
      ],
      "metadata": {
        "colab": {
          "base_uri": "https://localhost:8080/"
        },
        "id": "cXNiQI5rNwQ0",
        "outputId": "782201f5-76b3-4111-c0a1-abd9f4735e6e"
      },
      "execution_count": 21,
      "outputs": [
        {
          "output_type": "stream",
          "name": "stdout",
          "text": [
            "[1, 4, 9, 16, 25]\n"
          ]
        }
      ]
    }
  ]
}