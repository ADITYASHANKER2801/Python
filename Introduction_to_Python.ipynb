{
  "nbformat": 4,
  "nbformat_minor": 0,
  "metadata": {
    "colab": {
      "provenance": []
    },
    "kernelspec": {
      "name": "python3",
      "display_name": "Python 3"
    },
    "language_info": {
      "name": "python"
    }
  },
  "cells": [
    {
      "cell_type": "code",
      "execution_count": null,
      "metadata": {
        "id": "SSBHKqn5fGoL"
      },
      "outputs": [],
      "source": []
    },
    {
      "cell_type": "markdown",
      "source": [
        "**ARITHMETIC** **OPERATIONS**"
      ],
      "metadata": {
        "id": "IZ0NG0PqfVlX"
      }
    },
    {
      "cell_type": "code",
      "source": [
        "x=5\n",
        "z=10\n",
        "c=x*z\n",
        "print(c)\n",
        "type(c)"
      ],
      "metadata": {
        "colab": {
          "base_uri": "https://localhost:8080/"
        },
        "id": "JekMaLIofl8f",
        "outputId": "c3a4a8de-2750-447b-e1e3-d87f4b6d8a93"
      },
      "execution_count": null,
      "outputs": [
        {
          "output_type": "stream",
          "name": "stdout",
          "text": [
            "50\n"
          ]
        },
        {
          "output_type": "execute_result",
          "data": {
            "text/plain": [
              "int"
            ]
          },
          "metadata": {},
          "execution_count": 4
        }
      ]
    },
    {
      "cell_type": "code",
      "source": [
        "c=x/z\n",
        "print(c)\n",
        "type(c)"
      ],
      "metadata": {
        "colab": {
          "base_uri": "https://localhost:8080/"
        },
        "id": "pl5SLgGCfrKX",
        "outputId": "d68763bf-f696-4ed5-db15-d10b18c21a25"
      },
      "execution_count": null,
      "outputs": [
        {
          "output_type": "stream",
          "name": "stdout",
          "text": [
            "0.5\n"
          ]
        },
        {
          "output_type": "execute_result",
          "data": {
            "text/plain": [
              "float"
            ]
          },
          "metadata": {},
          "execution_count": 6
        }
      ]
    },
    {
      "cell_type": "code",
      "source": [
        "message=\"Hey muddy,how are you doing?\"\n",
        "print(message[4])  #prints the index"
      ],
      "metadata": {
        "colab": {
          "base_uri": "https://localhost:8080/"
        },
        "id": "ilFsi156gz_a",
        "outputId": "1a7b9858-440b-417f-ba77-2b0acb9aa137"
      },
      "execution_count": null,
      "outputs": [
        {
          "output_type": "stream",
          "name": "stdout",
          "text": [
            "m\n"
          ]
        }
      ]
    },
    {
      "cell_type": "code",
      "source": [
        "message=message.replace('muddy','buddy')\n",
        "print(message)"
      ],
      "metadata": {
        "colab": {
          "base_uri": "https://localhost:8080/"
        },
        "id": "kmJkZqreiTOq",
        "outputId": "052bfc3e-f748-476b-be1e-b0fc4daf7784"
      },
      "execution_count": null,
      "outputs": [
        {
          "output_type": "stream",
          "name": "stdout",
          "text": [
            "Hey buddy,how are you doing?\n"
          ]
        }
      ]
    },
    {
      "cell_type": "code",
      "source": [
        "algorithm=\"Neural Networks\"\n",
        "len(algorithm)   #Prints the length of string"
      ],
      "metadata": {
        "colab": {
          "base_uri": "https://localhost:8080/"
        },
        "id": "Pn6MMPJZicVe",
        "outputId": "e0c1c253-bfd1-4244-8465-fe61553887ed"
      },
      "execution_count": null,
      "outputs": [
        {
          "output_type": "execute_result",
          "data": {
            "text/plain": [
              "15"
            ]
          },
          "metadata": {},
          "execution_count": 14
        }
      ]
    },
    {
      "cell_type": "code",
      "source": [
        "algorithm.count(\"Ne\") #Returns  the count of the string in a given string"
      ],
      "metadata": {
        "colab": {
          "base_uri": "https://localhost:8080/"
        },
        "id": "IDamDPIEi6ih",
        "outputId": "7c760190-8511-40c9-cdd8-fb2d40652fcc"
      },
      "execution_count": null,
      "outputs": [
        {
          "output_type": "execute_result",
          "data": {
            "text/plain": [
              "2"
            ]
          },
          "metadata": {},
          "execution_count": 16
        }
      ]
    },
    {
      "cell_type": "code",
      "source": [
        "num_str=\"25\"\n",
        "num_int=int(num_str)  #Type conversion from string to int\n",
        "result=num_int+5\n",
        "print(result)"
      ],
      "metadata": {
        "colab": {
          "base_uri": "https://localhost:8080/"
        },
        "id": "cYRz8VFKjL2i",
        "outputId": "203fd5da-c16d-4ba9-db70-5ecdac48b9ab"
      },
      "execution_count": null,
      "outputs": [
        {
          "output_type": "stream",
          "name": "stdout",
          "text": [
            "30\n"
          ]
        }
      ]
    },
    {
      "cell_type": "code",
      "source": [
        "my_list=[1,2,3,4]\n",
        "type(my_list)"
      ],
      "metadata": {
        "colab": {
          "base_uri": "https://localhost:8080/"
        },
        "id": "W4H2jNyxmIhD",
        "outputId": "610161e4-a94a-4dd1-e02b-6d23c563829b"
      },
      "execution_count": null,
      "outputs": [
        {
          "output_type": "execute_result",
          "data": {
            "text/plain": [
              "list"
            ]
          },
          "metadata": {},
          "execution_count": 20
        }
      ]
    },
    {
      "cell_type": "code",
      "source": [
        "my_list=['A string',10,0.5,'0',True] #Python allows us to add any type of data type in a list\n",
        "my_list"
      ],
      "metadata": {
        "colab": {
          "base_uri": "https://localhost:8080/"
        },
        "id": "e9niAMCxm7IB",
        "outputId": "df63d3c2-33f4-4ade-84f3-6194f7c6b16c"
      },
      "execution_count": null,
      "outputs": [
        {
          "output_type": "execute_result",
          "data": {
            "text/plain": [
              "['A string', 10, 0.5, '0', True]"
            ]
          },
          "metadata": {},
          "execution_count": 22
        }
      ]
    },
    {
      "cell_type": "code",
      "source": [
        "#Mutability, List is Mutable\n",
        "my_list=[1,2,3,4,5]\n",
        "my_list[0]=10\n",
        "print(my_list)"
      ],
      "metadata": {
        "colab": {
          "base_uri": "https://localhost:8080/"
        },
        "id": "Wq3uz28mniwx",
        "outputId": "3cd67557-1059-41ca-e4c0-6da0d56eb619"
      },
      "execution_count": null,
      "outputs": [
        {
          "output_type": "stream",
          "name": "stdout",
          "text": [
            "[10, 2, 3, 4, 5]\n"
          ]
        }
      ]
    },
    {
      "cell_type": "code",
      "source": [
        "sum(my_list) #Returns the sum of elements in list, Only works on numeric data types\n"
      ],
      "metadata": {
        "colab": {
          "base_uri": "https://localhost:8080/"
        },
        "id": "XYh9-2SRn6LS",
        "outputId": "27ad5f53-93b7-41bb-9517-fa85c67fa887"
      },
      "execution_count": null,
      "outputs": [
        {
          "output_type": "execute_result",
          "data": {
            "text/plain": [
              "24"
            ]
          },
          "metadata": {},
          "execution_count": 5
        }
      ]
    },
    {
      "cell_type": "code",
      "source": [
        "len(my_list)"
      ],
      "metadata": {
        "colab": {
          "base_uri": "https://localhost:8080/"
        },
        "id": "TMKWnUal9XSe",
        "outputId": "111a5e0e-86dc-4c36-9dc7-2aa22f7a16c1"
      },
      "execution_count": null,
      "outputs": [
        {
          "output_type": "execute_result",
          "data": {
            "text/plain": [
              "5"
            ]
          },
          "metadata": {},
          "execution_count": 4
        }
      ]
    },
    {
      "cell_type": "code",
      "source": [
        "# mean of the list\n",
        "mean_marks=sum(my_list)/len(my_list)\n",
        "print(mean_marks)"
      ],
      "metadata": {
        "colab": {
          "base_uri": "https://localhost:8080/"
        },
        "id": "kekTbvZn9kzy",
        "outputId": "6443eee8-485d-4ae9-bed0-0b03411331ee"
      },
      "execution_count": null,
      "outputs": [
        {
          "output_type": "stream",
          "name": "stdout",
          "text": [
            "4.8\n"
          ]
        }
      ]
    },
    {
      "cell_type": "markdown",
      "source": [
        "**TUPLES**"
      ],
      "metadata": {
        "id": "u1LXVc1JphOZ"
      }
    },
    {
      "cell_type": "code",
      "source": [
        "#Tuples are immutable althought bit similar like lists, () brackets are used\n",
        "my_tuple=(1,2,3);\n",
        "type(my_tuple)"
      ],
      "metadata": {
        "colab": {
          "base_uri": "https://localhost:8080/"
        },
        "id": "0O6Idsg1pnPQ",
        "outputId": "56d6c735-b230-4105-9902-0149cd948c93"
      },
      "execution_count": null,
      "outputs": [
        {
          "output_type": "execute_result",
          "data": {
            "text/plain": [
              "tuple"
            ]
          },
          "metadata": {},
          "execution_count": 8
        }
      ]
    },
    {
      "cell_type": "code",
      "source": [
        "#can also mix object types\n",
        "tuple_other=('one',2,4.5, 'asbc')\n",
        "print(tuple_other)"
      ],
      "metadata": {
        "id": "Hcav4lLpqDVM",
        "outputId": "af496cdc-1b6e-4908-91ac-2220ac49fa76",
        "colab": {
          "base_uri": "https://localhost:8080/"
        }
      },
      "execution_count": null,
      "outputs": [
        {
          "output_type": "stream",
          "name": "stdout",
          "text": [
            "('one', 2, 4.5, 'asbc')\n"
          ]
        }
      ]
    },
    {
      "cell_type": "markdown",
      "source": [
        "DICTIONARIES"
      ],
      "metadata": {
        "id": "PW8kno8i-m9b"
      }
    },
    {
      "cell_type": "code",
      "source": [
        "#Dictionaries are type of key-value pair\n",
        "marvel_dict={'Name':'Thor',\n",
        "             'Place':'Asgard',\n",
        "             'weapon':'Hammer',\n",
        "             1:2, 3: 'power',\n",
        "             'alibies' : ['Ironman','Captain america'],\n",
        "             'abc' : {1:2, 4:5}\n",
        "             }"
      ],
      "metadata": {
        "id": "Bny7MK7M-r8H"
      },
      "execution_count": null,
      "outputs": []
    },
    {
      "cell_type": "code",
      "source": [
        "#call value by their key\n",
        "marvel_dict['Place']"
      ],
      "metadata": {
        "colab": {
          "base_uri": "https://localhost:8080/",
          "height": 35
        },
        "id": "5iPeTChi_1my",
        "outputId": "4165fa33-8433-438d-f592-6c9ae906247f"
      },
      "execution_count": null,
      "outputs": [
        {
          "output_type": "execute_result",
          "data": {
            "text/plain": [
              "'Asgard'"
            ],
            "application/vnd.google.colaboratory.intrinsic+json": {
              "type": "string"
            }
          },
          "metadata": {},
          "execution_count": 13
        }
      ]
    },
    {
      "cell_type": "code",
      "source": [
        "type(marvel_dict)"
      ],
      "metadata": {
        "colab": {
          "base_uri": "https://localhost:8080/"
        },
        "id": "NOU9wGbuADxj",
        "outputId": "1c68ecde-5e9d-43dd-847b-b33294aa7ea3"
      },
      "execution_count": null,
      "outputs": [
        {
          "output_type": "execute_result",
          "data": {
            "text/plain": [
              "dict"
            ]
          },
          "metadata": {},
          "execution_count": 14
        }
      ]
    },
    {
      "cell_type": "code",
      "source": [
        "type(marvel_dict['abc'])"
      ],
      "metadata": {
        "colab": {
          "base_uri": "https://localhost:8080/"
        },
        "id": "Gi2v49OeAD3s",
        "outputId": "133d865a-9315-44d4-f758-a833271591a5"
      },
      "execution_count": null,
      "outputs": [
        {
          "output_type": "execute_result",
          "data": {
            "text/plain": [
              "dict"
            ]
          },
          "metadata": {},
          "execution_count": 15
        }
      ]
    },
    {
      "cell_type": "code",
      "source": [
        "#Dictionaries are mutable\n",
        "customers={\n",
        "    \"id\":1234,\n",
        "    \"Name\":\"John cena\",\n",
        "    \"Email\": \"johncena@gmail.com\"\n",
        "\n",
        "}\n",
        "customers[\"Email\"]=\"johncenaisjod@gmail.com\"\n",
        "\n",
        "#Add a new key value pair\n",
        "customers[\"phone\"]=\"555-111-2222\"\n",
        "\n",
        "#Remove the customer id\n",
        "del customers[\"id\"]\n",
        "\n",
        "print(customers)"
      ],
      "metadata": {
        "colab": {
          "base_uri": "https://localhost:8080/"
        },
        "id": "1jfXE6G8Ab8c",
        "outputId": "bea17783-c037-4c9f-9985-0baa77c697e0"
      },
      "execution_count": null,
      "outputs": [
        {
          "output_type": "stream",
          "name": "stdout",
          "text": [
            "{'Name': 'John cena', 'Email': 'johncenaisjod@gmail.com', 'phone': '555-111-2222'}\n"
          ]
        }
      ]
    },
    {
      "cell_type": "code",
      "source": [
        "customers.keys()"
      ],
      "metadata": {
        "colab": {
          "base_uri": "https://localhost:8080/"
        },
        "id": "KS07YoLUBXM9",
        "outputId": "ceec38d5-517c-44f6-9528-823ef8f0e6d6"
      },
      "execution_count": null,
      "outputs": [
        {
          "output_type": "execute_result",
          "data": {
            "text/plain": [
              "dict_keys(['Name', 'Email', 'phone'])"
            ]
          },
          "metadata": {},
          "execution_count": 18
        }
      ]
    },
    {
      "cell_type": "code",
      "source": [
        "list(customers.keys())"
      ],
      "metadata": {
        "colab": {
          "base_uri": "https://localhost:8080/"
        },
        "id": "n-UN26fyBdYb",
        "outputId": "21144db0-787e-4ff7-b6dc-374d46899176"
      },
      "execution_count": null,
      "outputs": [
        {
          "output_type": "execute_result",
          "data": {
            "text/plain": [
              "['Name', 'Email', 'phone']"
            ]
          },
          "metadata": {},
          "execution_count": 19
        }
      ]
    },
    {
      "cell_type": "code",
      "source": [
        "customers.values()"
      ],
      "metadata": {
        "colab": {
          "base_uri": "https://localhost:8080/"
        },
        "id": "ou26fru0Bj3o",
        "outputId": "a35c76ff-6124-4867-e1b4-69a503d36b26"
      },
      "execution_count": null,
      "outputs": [
        {
          "output_type": "execute_result",
          "data": {
            "text/plain": [
              "dict_values(['John cena', 'johncenaisjod@gmail.com', '555-111-2222'])"
            ]
          },
          "metadata": {},
          "execution_count": 20
        }
      ]
    },
    {
      "cell_type": "code",
      "source": [
        "customers.items()"
      ],
      "metadata": {
        "colab": {
          "base_uri": "https://localhost:8080/"
        },
        "id": "CeBkd8vxBsuD",
        "outputId": "62358791-3999-4010-9055-65efb6a7d37c"
      },
      "execution_count": null,
      "outputs": [
        {
          "output_type": "execute_result",
          "data": {
            "text/plain": [
              "dict_items([('Name', 'John cena'), ('Email', 'johncenaisjod@gmail.com'), ('phone', '555-111-2222')])"
            ]
          },
          "metadata": {},
          "execution_count": 21
        }
      ]
    },
    {
      "cell_type": "code",
      "source": [
        "#interesting algorithm\n",
        "marvel_dict['abc'][1]"
      ],
      "metadata": {
        "colab": {
          "base_uri": "https://localhost:8080/"
        },
        "id": "belKVZoNB1iu",
        "outputId": "ceb1e8d1-2e03-43bb-9322-1a379e1dee7b"
      },
      "execution_count": null,
      "outputs": [
        {
          "output_type": "execute_result",
          "data": {
            "text/plain": [
              "2"
            ]
          },
          "metadata": {},
          "execution_count": 22
        }
      ]
    },
    {
      "cell_type": "markdown",
      "source": [
        "## **SETS**"
      ],
      "metadata": {
        "id": "wTADYnt2CUmq"
      }
    },
    {
      "cell_type": "code",
      "source": [
        "#Sets are used to work with collection of unique elements\n",
        "empty_set=set()"
      ],
      "metadata": {
        "id": "_i31cuOvCYQa"
      },
      "execution_count": null,
      "outputs": []
    },
    {
      "cell_type": "code",
      "source": [
        "type(empty_set)"
      ],
      "metadata": {
        "colab": {
          "base_uri": "https://localhost:8080/"
        },
        "id": "3TYjqr3mCtHr",
        "outputId": "13d2d1e7-bb99-4d2d-e630-075e94418661"
      },
      "execution_count": null,
      "outputs": [
        {
          "output_type": "execute_result",
          "data": {
            "text/plain": [
              "set"
            ]
          },
          "metadata": {},
          "execution_count": 24
        }
      ]
    },
    {
      "cell_type": "code",
      "source": [
        "non_empty_set={1,2,3,'abc'}\n",
        "#Mutability in set\n",
        "non_empty_set= non_empty_set | {1,7}\n",
        "print(non_empty_set)"
      ],
      "metadata": {
        "colab": {
          "base_uri": "https://localhost:8080/"
        },
        "id": "X7hBahGbC1r2",
        "outputId": "685ca191-ca19-4a29-c1dd-7e8d00f0a5f9"
      },
      "execution_count": null,
      "outputs": [
        {
          "output_type": "stream",
          "name": "stdout",
          "text": [
            "{1, 2, 3, 7, 'abc'}\n"
          ]
        }
      ]
    },
    {
      "cell_type": "code",
      "source": [
        "len(non_empty_set)"
      ],
      "metadata": {
        "colab": {
          "base_uri": "https://localhost:8080/"
        },
        "id": "H69YDV9aDPHR",
        "outputId": "cf22c753-b295-4656-9264-e4ce81af055d"
      },
      "execution_count": null,
      "outputs": [
        {
          "output_type": "execute_result",
          "data": {
            "text/plain": [
              "5"
            ]
          },
          "metadata": {},
          "execution_count": 26
        }
      ]
    },
    {
      "cell_type": "code",
      "source": [
        "lists=[1,2,3,1,2,2,3,4,1,5,5,6,7]\n",
        "my_set=set(lists)\n",
        "print(my_set)"
      ],
      "metadata": {
        "colab": {
          "base_uri": "https://localhost:8080/"
        },
        "id": "q1GhgJ6VDqBW",
        "outputId": "bf8a80bd-aeea-4e55-9142-91895571294a"
      },
      "execution_count": null,
      "outputs": [
        {
          "output_type": "stream",
          "name": "stdout",
          "text": [
            "{1, 2, 3, 4, 5, 6, 7}\n"
          ]
        }
      ]
    },
    {
      "cell_type": "markdown",
      "source": [
        "**SLICING**"
      ],
      "metadata": {
        "id": "Isv92g3TJ4hl"
      }
    },
    {
      "cell_type": "code",
      "source": [
        "#Slicing is used to get a portion of the sequence\n",
        "#sequence[start:stop:step]\n",
        "#start-The index from which slicing begins\n",
        "#end-The index at which slicing ends\n",
        "#step-The number of elements to skip between each included element"
      ],
      "metadata": {
        "id": "mfplHgsIJ6oE"
      },
      "execution_count": null,
      "outputs": []
    },
    {
      "cell_type": "code",
      "source": [
        "str1=\"FACE\"\n",
        "str1[1:3]"
      ],
      "metadata": {
        "colab": {
          "base_uri": "https://localhost:8080/",
          "height": 35
        },
        "id": "mBl1fuo4LbRp",
        "outputId": "7d5d1f24-8743-4f25-d640-739289113877"
      },
      "execution_count": null,
      "outputs": [
        {
          "output_type": "execute_result",
          "data": {
            "text/plain": [
              "'AC'"
            ],
            "application/vnd.google.colaboratory.intrinsic+json": {
              "type": "string"
            }
          },
          "metadata": {},
          "execution_count": 29
        }
      ]
    },
    {
      "cell_type": "code",
      "source": [
        "my_string=\"Hello, world\"\n",
        "my_string[::2]"
      ],
      "metadata": {
        "colab": {
          "base_uri": "https://localhost:8080/",
          "height": 35
        },
        "id": "VsBDMG3BMCP_",
        "outputId": "0582bb67-423b-4a76-e735-fb678c549b1b"
      },
      "execution_count": null,
      "outputs": [
        {
          "output_type": "execute_result",
          "data": {
            "text/plain": [
              "'Hlo ol'"
            ],
            "application/vnd.google.colaboratory.intrinsic+json": {
              "type": "string"
            }
          },
          "metadata": {},
          "execution_count": 32
        }
      ]
    },
    {
      "cell_type": "code",
      "source": [
        "#to reverse the string\n",
        "my_string[::-1]"
      ],
      "metadata": {
        "colab": {
          "base_uri": "https://localhost:8080/",
          "height": 35
        },
        "id": "lOJ_OMW-MSnY",
        "outputId": "5de747c8-f93b-4b91-ef0c-cea478d2225b"
      },
      "execution_count": null,
      "outputs": [
        {
          "output_type": "execute_result",
          "data": {
            "text/plain": [
              "'dlrow ,olleH'"
            ],
            "application/vnd.google.colaboratory.intrinsic+json": {
              "type": "string"
            }
          },
          "metadata": {},
          "execution_count": 33
        }
      ]
    },
    {
      "cell_type": "markdown",
      "source": [
        "**OPERATORS** **IN** **DATA** **TYPES**"
      ],
      "metadata": {
        "id": "Wnm57qIWNjey"
      }
    },
    {
      "cell_type": "code",
      "source": [
        "x=10\n",
        "y=3\n",
        "\n",
        "print(x+y)\n",
        "print(x-y)\n",
        "print(x*y)\n",
        "print(x/y)"
      ],
      "metadata": {
        "colab": {
          "base_uri": "https://localhost:8080/"
        },
        "id": "spTBnJYXNpum",
        "outputId": "7383d0f0-d720-4b06-d6b3-c47205abdfc4"
      },
      "execution_count": null,
      "outputs": [
        {
          "output_type": "stream",
          "name": "stdout",
          "text": [
            "13\n",
            "7\n",
            "30\n",
            "3.3333333333333335\n"
          ]
        }
      ]
    },
    {
      "cell_type": "code",
      "source": [
        "# \"//\" operator is known as integer division operator\n",
        "j = 10\n",
        "b=3\n",
        "c=j//b\n",
        "print(c)\n",
        "\n",
        "#\"%\" reurns the remainder\n",
        "a=10\n",
        "b=3\n",
        "c=a%b\n",
        "print(c)\n",
        "\n",
        "#\"**\" it is the exponentation operator\n",
        "a=2\n",
        "b=3\n",
        "c=a**b\n",
        "print(c)"
      ],
      "metadata": {
        "colab": {
          "base_uri": "https://localhost:8080/"
        },
        "id": "r5H0hTXKNzkr",
        "outputId": "7322adbc-c8e7-4c32-b069-08af183c2008"
      },
      "execution_count": null,
      "outputs": [
        {
          "output_type": "stream",
          "name": "stdout",
          "text": [
            "3\n",
            "1\n",
            "8\n"
          ]
        }
      ]
    },
    {
      "cell_type": "code",
      "source": [
        "#Comparison operators\n",
        "x=5\n",
        "y=10\n",
        "\n",
        "print(x==y)\n",
        "print(x!=y)\n",
        "print(x>y)\n",
        "print(x<y)\n",
        "print(x>=y)\n",
        "print(x<=y)"
      ],
      "metadata": {
        "colab": {
          "base_uri": "https://localhost:8080/"
        },
        "id": "PgulVT8vQkkg",
        "outputId": "b68eaf67-e849-40bd-88f1-f1c89f54ca02"
      },
      "execution_count": null,
      "outputs": [
        {
          "output_type": "stream",
          "name": "stdout",
          "text": [
            "False\n",
            "True\n",
            "False\n",
            "True\n",
            "False\n",
            "True\n"
          ]
        }
      ]
    },
    {
      "cell_type": "markdown",
      "source": [
        "**LOGICAL** **OPERATORS**"
      ],
      "metadata": {
        "id": "qUlTeQNnQ6-I"
      }
    },
    {
      "cell_type": "code",
      "source": [
        "#AND-Returns true if both conditions are true, otherwise false\n",
        "#OR-Returns true if one of the conditions are true, otherwise false\n",
        "#NOT-Returns opposite of condition i.e false when true and vice versa\n",
        "\n",
        "x=5\n",
        "y=10\n",
        "z=5\n",
        "\n",
        "print((x<y) and (x==z))\n",
        "print((x>y) or (x==z))\n",
        "print(not(x==z))"
      ],
      "metadata": {
        "colab": {
          "base_uri": "https://localhost:8080/"
        },
        "id": "BpM8k0p3Q_YQ",
        "outputId": "68b116d6-0944-4f0d-c381-00b92556925a"
      },
      "execution_count": null,
      "outputs": [
        {
          "output_type": "stream",
          "name": "stdout",
          "text": [
            "True\n",
            "True\n",
            "False\n"
          ]
        }
      ]
    },
    {
      "cell_type": "markdown",
      "source": [
        "**MEMBERSHIP** **OPERATORS**"
      ],
      "metadata": {
        "id": "HGFeKhVCSXIZ"
      }
    },
    {
      "cell_type": "code",
      "source": [
        "#There are two types of membership operators \"In\" and \"Not in\"\n",
        "sentence=\"The quick brown fox jumps over the lazy dog\"\n",
        "print(\"fox\" in sentence)\n",
        "print(\"cat\" in sentence)"
      ],
      "metadata": {
        "colab": {
          "base_uri": "https://localhost:8080/"
        },
        "id": "EUuMLJdxSirt",
        "outputId": "7ed74b4d-7a22-467b-d2f2-58217a1a6da6"
      },
      "execution_count": null,
      "outputs": [
        {
          "output_type": "stream",
          "name": "stdout",
          "text": [
            "True\n",
            "False\n"
          ]
        }
      ]
    },
    {
      "cell_type": "markdown",
      "source": [
        "\n",
        " **CONCAT** **AND** **MULTIPLYING**"
      ],
      "metadata": {
        "id": "rTbnLkIfS8qc"
      }
    },
    {
      "cell_type": "code",
      "source": [
        "#WE use the + operator to concatenate two lists\n",
        "list1=[1,2,3]\n",
        "list2=[4,5,6]\n",
        "\n",
        "result=list1+list2\n",
        "print(result)"
      ],
      "metadata": {
        "colab": {
          "base_uri": "https://localhost:8080/"
        },
        "id": "K9pnifROTDL-",
        "outputId": "faeb838f-846d-483b-9d11-44497f1651f6"
      },
      "execution_count": null,
      "outputs": [
        {
          "output_type": "stream",
          "name": "stdout",
          "text": [
            "[1, 2, 3, 4, 5, 6]\n"
          ]
        }
      ]
    },
    {
      "cell_type": "code",
      "source": [
        "#Using the * operator to repeat the list\n",
        "list1=[1,2,3]\n",
        "result = list1 * 3\n",
        "print(result)"
      ],
      "metadata": {
        "colab": {
          "base_uri": "https://localhost:8080/"
        },
        "id": "3HFjJFjxTWh4",
        "outputId": "7926bff5-65f6-4094-daa2-1e59526b3bec"
      },
      "execution_count": null,
      "outputs": [
        {
          "output_type": "stream",
          "name": "stdout",
          "text": [
            "[1, 2, 3, 1, 2, 3, 1, 2, 3]\n"
          ]
        }
      ]
    },
    {
      "cell_type": "code",
      "source": [
        "string1=\"Hello\"\n",
        "string2=\"world\"\n",
        "result= string1+ \" \" +string2\n",
        "print(result)\n",
        "\n",
        "string=\"spam\"\n",
        "result=string *3\n",
        "print(result)"
      ],
      "metadata": {
        "colab": {
          "base_uri": "https://localhost:8080/"
        },
        "id": "O4oM8IKFT8aw",
        "outputId": "83d68eb4-9c04-4950-cc71-c2a8036a0eea"
      },
      "execution_count": null,
      "outputs": [
        {
          "output_type": "stream",
          "name": "stdout",
          "text": [
            "Hello world\n",
            "spamspamspam\n"
          ]
        }
      ]
    },
    {
      "cell_type": "code",
      "source": [
        "#To copy a dictionary\n",
        "my_dict={\"1\":2, \"Apple\":\"Monkey\", \"John\": 47}\n",
        "new_dict=my_dict.copy()\n",
        "print(new_dict)"
      ],
      "metadata": {
        "colab": {
          "base_uri": "https://localhost:8080/"
        },
        "id": "-IFNbFzMUR-a",
        "outputId": "e6ac5ef7-3968-4ae3-d58d-dff820b3b332"
      },
      "execution_count": null,
      "outputs": [
        {
          "output_type": "stream",
          "name": "stdout",
          "text": [
            "{'1': 2, 'Apple': 'Monkey', 'John': 47}\n"
          ]
        }
      ]
    },
    {
      "cell_type": "code",
      "source": [
        "#to clear the dictionary\n",
        "my_dict.clear()\n",
        "print(my_dict)"
      ],
      "metadata": {
        "colab": {
          "base_uri": "https://localhost:8080/"
        },
        "id": "ZzLkIfw6Ulzn",
        "outputId": "57762764-1e06-4111-e2df-25c6a17ece34"
      },
      "execution_count": null,
      "outputs": [
        {
          "output_type": "stream",
          "name": "stdout",
          "text": [
            "{}\n"
          ]
        }
      ]
    },
    {
      "cell_type": "markdown",
      "source": [
        "**SET** **OPERATORS**\n",
        "\n",
        "\n",
        "1.   Union(|)-returns a new set with all elements from both side\n",
        "2.   Intersection Operator(&)-returns a new set with common elements from both sets.\n",
        "3. Difference Operator(-)-returns a new set with only elements from first set which are not in second set\n",
        "\n"
      ],
      "metadata": {
        "id": "WoPIvV8uU0BX"
      }
    },
    {
      "cell_type": "code",
      "source": [
        "set_a={1,2,3}\n",
        "set_b={2,3,4}\n",
        "\n",
        "print(set_a | set_b)\n",
        "print(set_a & set_b)\n",
        "print(set_a - set_b)"
      ],
      "metadata": {
        "colab": {
          "base_uri": "https://localhost:8080/"
        },
        "id": "LeOM6uzSVAjb",
        "outputId": "28978ecf-4536-489d-e6a1-17a682540256"
      },
      "execution_count": null,
      "outputs": [
        {
          "output_type": "stream",
          "name": "stdout",
          "text": [
            "{1, 2, 3, 4}\n",
            "{2, 3}\n",
            "{1}\n"
          ]
        }
      ]
    },
    {
      "cell_type": "markdown",
      "source": [
        "**INPUT** **IN** **PYTHON**"
      ],
      "metadata": {
        "id": "zN1vTGrHWMG4"
      }
    },
    {
      "cell_type": "code",
      "source": [
        "name= input(\"Enter your name\")\n",
        "print(\"Hello,\"+ name + \"|\")"
      ],
      "metadata": {
        "colab": {
          "base_uri": "https://localhost:8080/"
        },
        "id": "Kr_Ii-kuWaB5",
        "outputId": "10993a43-b9e0-43a1-f337-f8aabcbdac2f"
      },
      "execution_count": null,
      "outputs": [
        {
          "output_type": "stream",
          "name": "stdout",
          "text": [
            "Enter your namejohn\n",
            "Hello,john|\n"
          ]
        }
      ]
    },
    {
      "cell_type": "code",
      "source": [
        "a=int(input(\"Enter first number\"))\n",
        "b=int(input(\"Enter second number\"))\n",
        "c=a+b\n",
        "print(c)"
      ],
      "metadata": {
        "colab": {
          "base_uri": "https://localhost:8080/"
        },
        "id": "rEVW84AlW3Xi",
        "outputId": "c42ecdfc-e85e-4bbb-811e-fe5b992cf597"
      },
      "execution_count": null,
      "outputs": [
        {
          "output_type": "stream",
          "name": "stdout",
          "text": [
            "Enter first number5\n",
            "Enter second number10\n",
            "15\n"
          ]
        }
      ]
    },
    {
      "cell_type": "code",
      "source": [
        "ex=[3,4,5]\n",
        "print(sum(ex))\n",
        "print(max(ex))\n",
        "print(min(ex))"
      ],
      "metadata": {
        "colab": {
          "base_uri": "https://localhost:8080/"
        },
        "id": "WRGLM6L2YAe8",
        "outputId": "3cf46989-84e0-4364-9283-eaae72209216"
      },
      "execution_count": null,
      "outputs": [
        {
          "output_type": "stream",
          "name": "stdout",
          "text": [
            "12\n",
            "5\n",
            "3\n"
          ]
        }
      ]
    },
    {
      "cell_type": "code",
      "source": [
        "ex=[3,7,5]\n",
        "list(enumerate(ex))"
      ],
      "metadata": {
        "colab": {
          "base_uri": "https://localhost:8080/"
        },
        "id": "flB8YkmHYlkT",
        "outputId": "92905b1d-aec9-490f-c208-864d702fb239"
      },
      "execution_count": null,
      "outputs": [
        {
          "output_type": "execute_result",
          "data": {
            "text/plain": [
              "[(0, 3), (1, 7), (2, 5)]"
            ]
          },
          "metadata": {},
          "execution_count": 56
        }
      ]
    },
    {
      "cell_type": "code",
      "source": [
        "list1=[2,3,4,5]\n",
        "list2=['a','b','c','d']\n",
        "list(zip(list1,list2))"
      ],
      "metadata": {
        "colab": {
          "base_uri": "https://localhost:8080/"
        },
        "id": "dbSzF6exYxQY",
        "outputId": "5e4eb14a-b63f-4a1f-f426-df80484df373"
      },
      "execution_count": null,
      "outputs": [
        {
          "output_type": "execute_result",
          "data": {
            "text/plain": [
              "[(2, 'a'), (3, 'b'), (4, 'c'), (5, 'd')]"
            ]
          },
          "metadata": {},
          "execution_count": 57
        }
      ]
    },
    {
      "cell_type": "code",
      "source": [
        "my_list=[1,2,3,4,2,5]\n",
        "print(len(my_list))\n",
        "\n",
        "#to get index of any element\n",
        "print(my_list.index(4))\n",
        "\n",
        "#to retirve count of any element in the list\n",
        "print(my_list.count(2))"
      ],
      "metadata": {
        "colab": {
          "base_uri": "https://localhost:8080/"
        },
        "id": "HkYyu7SmZX49",
        "outputId": "17fe7584-149a-499d-dc4d-23224b9aa8c6"
      },
      "execution_count": null,
      "outputs": [
        {
          "output_type": "stream",
          "name": "stdout",
          "text": [
            "6\n",
            "3\n",
            "2\n"
          ]
        }
      ]
    },
    {
      "cell_type": "code",
      "source": [
        "my_dict={\"name\":\"rony\",\"age\":19,\"city\":\"ny\"}\n",
        "\n",
        "#To retrieve any value from dictionary we use get\n",
        "my_dict.get(\"age\")"
      ],
      "metadata": {
        "colab": {
          "base_uri": "https://localhost:8080/"
        },
        "id": "UBAnPaooZtFR",
        "outputId": "0734d28d-fe19-47f4-bece-94233e699511"
      },
      "execution_count": null,
      "outputs": [
        {
          "output_type": "execute_result",
          "data": {
            "text/plain": [
              "19"
            ]
          },
          "metadata": {},
          "execution_count": 60
        }
      ]
    },
    {
      "cell_type": "code",
      "source": [
        "#SORTING A LIST\n",
        "my_list=[3,7,2,6,5,19,14,4]\n",
        "sorted_list=sorted(my_list)\n",
        "print(\"Original list\",my_list)\n",
        "print(\"Sorted list\", sorted_list)"
      ],
      "metadata": {
        "colab": {
          "base_uri": "https://localhost:8080/"
        },
        "id": "onPqwWdgaq9Q",
        "outputId": "87509570-1a12-4a82-9bae-6aee4352ca98"
      },
      "execution_count": null,
      "outputs": [
        {
          "output_type": "stream",
          "name": "stdout",
          "text": [
            "Original list [3, 7, 2, 6, 5, 19, 14, 4]\n",
            "Sorted list [2, 3, 4, 5, 6, 7, 14, 19]\n"
          ]
        }
      ]
    },
    {
      "cell_type": "code",
      "source": [
        "# append() - adds a new element to the end of the list\n",
        "my_list=[1,2,3,4]\n",
        "my_list.append(5)\n",
        "print(my_list)"
      ],
      "metadata": {
        "colab": {
          "base_uri": "https://localhost:8080/"
        },
        "id": "aNnlM-L2bHFF",
        "outputId": "70afe66e-899e-4012-e9b0-4b1c6a66c5d0"
      },
      "execution_count": null,
      "outputs": [
        {
          "output_type": "stream",
          "name": "stdout",
          "text": [
            "[1, 2, 3, 4, 5]\n"
          ]
        }
      ]
    },
    {
      "cell_type": "code",
      "source": [
        "# update()- adds or update a key value pair in dictionary\n",
        "my_dict={\"name\":\"John\", \"age\": 30}\n",
        "my_dict.update({\"age\":31,\"gender\":\"Male\"})\n",
        "print(my_dict)"
      ],
      "metadata": {
        "colab": {
          "base_uri": "https://localhost:8080/"
        },
        "id": "z0TNkBEwbixV",
        "outputId": "6b408373-7046-4819-a4dc-1bc4b61e984c"
      },
      "execution_count": null,
      "outputs": [
        {
          "output_type": "stream",
          "name": "stdout",
          "text": [
            "{'name': 'John', 'age': 31, 'gender': 'Male'}\n"
          ]
        }
      ]
    },
    {
      "cell_type": "code",
      "source": [
        "#replace() - replaces a substring in a string with a new string\n",
        "string1=\"Hello, World!\"\n",
        "new_string=string1.replace(\"World\", \"Python\")\n",
        "print(string1)\n",
        "print(new_string)"
      ],
      "metadata": {
        "colab": {
          "base_uri": "https://localhost:8080/"
        },
        "id": "-Sfli91db-Aj",
        "outputId": "60749823-f66b-4ed3-e849-7166c9dcbe33"
      },
      "execution_count": null,
      "outputs": [
        {
          "output_type": "stream",
          "name": "stdout",
          "text": [
            "Hello, World!\n",
            "Hello, Python!\n"
          ]
        }
      ]
    },
    {
      "cell_type": "code",
      "source": [
        "#extend()-adds multiple elements to the end of the list\n",
        "my_list=[1,2,3]\n",
        "print(my_list)\n",
        "my_list.extend([4,5,6])\n",
        "print(my_list)"
      ],
      "metadata": {
        "colab": {
          "base_uri": "https://localhost:8080/"
        },
        "id": "EYm-uoTXcY6y",
        "outputId": "02897091-c08c-4936-95b6-b6c1598e39cf"
      },
      "execution_count": null,
      "outputs": [
        {
          "output_type": "stream",
          "name": "stdout",
          "text": [
            "[1, 2, 3]\n",
            "[1, 2, 3, 4, 5, 6]\n"
          ]
        }
      ]
    },
    {
      "cell_type": "markdown",
      "source": [
        "**STRING** **METHODS**"
      ],
      "metadata": {
        "id": "Th7l3mt9dKX7"
      }
    },
    {
      "cell_type": "code",
      "source": [
        "string=\"alma better\"\n",
        "\n",
        "#upper() to convert all string to uppercase\n",
        "print(string.upper())\n",
        "\n",
        "#lower() to convert all string to lowercase\n",
        "print(string.lower())"
      ],
      "metadata": {
        "colab": {
          "base_uri": "https://localhost:8080/"
        },
        "id": "vAXU29-zdTh9",
        "outputId": "2fd112e0-fba6-4a89-f70f-1201c8085d35"
      },
      "execution_count": null,
      "outputs": [
        {
          "output_type": "stream",
          "name": "stdout",
          "text": [
            "ALMA BETTER\n",
            "alma better\n"
          ]
        }
      ]
    },
    {
      "cell_type": "code",
      "source": [
        "#title() - to convert first character of each word to uppercase\n",
        "print(string.title())"
      ],
      "metadata": {
        "colab": {
          "base_uri": "https://localhost:8080/"
        },
        "id": "6Cle-mQudxqK",
        "outputId": "7f0e4e78-4cc2-4578-b053-f5e3af6883e4"
      },
      "execution_count": null,
      "outputs": [
        {
          "output_type": "stream",
          "name": "stdout",
          "text": [
            "Alma Better\n"
          ]
        }
      ]
    },
    {
      "cell_type": "code",
      "source": [
        "#replace()- to replace substring with new substring\n",
        "print(string.replace(\"better\",\"best\"))"
      ],
      "metadata": {
        "colab": {
          "base_uri": "https://localhost:8080/"
        },
        "id": "vhOK1-MYeB9M",
        "outputId": "a845d327-9295-4e33-c640-a3c51198b78e"
      },
      "execution_count": null,
      "outputs": [
        {
          "output_type": "stream",
          "name": "stdout",
          "text": [
            "alma best\n"
          ]
        }
      ]
    },
    {
      "cell_type": "code",
      "source": [
        "#split()- to split list into substirngs into a list of substrings\n",
        "string.split(\" \")"
      ],
      "metadata": {
        "colab": {
          "base_uri": "https://localhost:8080/"
        },
        "id": "V_b6M8NieOOd",
        "outputId": "8b54d3fe-e06e-4280-a29b-304efa719506"
      },
      "execution_count": null,
      "outputs": [
        {
          "output_type": "execute_result",
          "data": {
            "text/plain": [
              "['alma', 'better']"
            ]
          },
          "metadata": {},
          "execution_count": 75
        }
      ]
    },
    {
      "cell_type": "code",
      "source": [
        "#join()- to concatenate list of strings into a single string with a seperate string\n",
        "new_string=string.join(\"123\")\n",
        "print(new_string)"
      ],
      "metadata": {
        "colab": {
          "base_uri": "https://localhost:8080/"
        },
        "id": "tg8SXpx4edgq",
        "outputId": "72e94a86-1034-41d5-dcec-0eb06105ec7f"
      },
      "execution_count": null,
      "outputs": [
        {
          "output_type": "stream",
          "name": "stdout",
          "text": [
            "1alma better2alma better3\n"
          ]
        }
      ]
    }
  ]
}